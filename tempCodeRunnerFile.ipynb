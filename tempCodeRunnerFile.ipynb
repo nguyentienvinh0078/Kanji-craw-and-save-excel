json_write(f'{database_folder}\\{course_jdict_clean_fname}', {
        f"{course}": course_data
    })