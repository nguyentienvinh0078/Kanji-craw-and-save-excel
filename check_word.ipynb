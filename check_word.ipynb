{
 "cells": [
  {
   "cell_type": "code",
   "execution_count": 11,
   "metadata": {},
   "outputs": [],
   "source": [
    "from util import json_write, json_read\n",
    "import os"
   ]
  },
  {
   "cell_type": "code",
   "execution_count": 12,
   "metadata": {},
   "outputs": [],
   "source": [
    "database_folder = 'Kanji Database'\n",
    "\n",
    "kanji_2000_fname = 'kanji_2000.json'\n"
   ]
  },
  {
   "cell_type": "code",
   "execution_count": 31,
   "metadata": {},
   "outputs": [],
   "source": [
    "similar =  \"ホン Nhật bản:  日本 (に　ほん):  Nhật Bản\"\n",
    "\n",
    "similar = \"コウ###参考 (さんこう):  tham khảo###考古学 (考古学):  khảo cổ học\"\n",
    "similar = ' - 从(95%)\\n - 内(50%)\\n - 仄(50%)\\n - 以(49%)\\n - 囚(49%)\\n - 丙(49%)\\n - 巫(48%)\\n - 坐(48%)\\n - 夾(48%)\\n - 俎(47%)\\n - 臥(47%)\\n - 臾(47%)\\n - 爽(47%)\\n - 夫(35%)\\n - 欠(35%)\\n - 肉(33%)\\n - 似(33%)\\n - 吶(33%)\\n'\n"
   ]
  },
  {
   "cell_type": "code",
   "execution_count": 30,
   "metadata": {},
   "outputs": [],
   "source": [
    "def update_kanji_char(similar):\n",
    "    kanji_2000_data = json_read(os.path.join(database_folder, kanji_2000_fname))\n",
    "    char_data = kanji_2000_data['kanji_2000'].keys()\n",
    "    new_similar = []\n",
    "    for char in similar:\n",
    "        if char in char_data:\n",
    "            new_similar.append(f\"{char}({kanji_2000_data['kanji_2000'][char]['vn_sound'].upper()})\")\n",
    "        else:\n",
    "            new_similar.append(f\"{char}\")\n",
    "    new_similar = ''.join(new_similar)\n",
    "    return new_similar"
   ]
  },
  {
   "cell_type": "code",
   "execution_count": 32,
   "metadata": {},
   "outputs": [
    {
     "name": "stdout",
     "output_type": "stream",
     "text": [
      "[' - 从(95%)\\n - 内(NỘI)(50%)\\n - 仄(50%)\\n - 以(DĨ)(49%)\\n - 囚(TÙ)(49%)\\n - 丙(BÍNH)(49%)\\n - 巫(48%)\\n - 坐(48%)\\n - 夾(48%)\\n - 俎(47%)\\n - 臥(47%)\\n - 臾(47%)\\n - 爽(47%)\\n - 夫(PHU)(35%)\\n - 欠(KHIẾM)(35%)\\n - 肉(NHỤC)(33%)\\n - 似(TỰ)(33%)\\n - 吶(33%)\\n']\n"
     ]
    }
   ],
   "source": [
    "print(update_kanji_char(similar).split('###'))"
   ]
  },
  {
   "cell_type": "code",
   "execution_count": null,
   "metadata": {},
   "outputs": [],
   "source": []
  }
 ],
 "metadata": {
  "kernelspec": {
   "display_name": "Python 3.10.5 ('venv': venv)",
   "language": "python",
   "name": "python3"
  },
  "language_info": {
   "codemirror_mode": {
    "name": "ipython",
    "version": 3
   },
   "file_extension": ".py",
   "mimetype": "text/x-python",
   "name": "python",
   "nbconvert_exporter": "python",
   "pygments_lexer": "ipython3",
   "version": "3.10.5"
  },
  "orig_nbformat": 4,
  "vscode": {
   "interpreter": {
    "hash": "95379d73687e29367969ecdae944f993419b8d32e7ccee1787d162f3b828b35d"
   }
  }
 },
 "nbformat": 4,
 "nbformat_minor": 2
}
