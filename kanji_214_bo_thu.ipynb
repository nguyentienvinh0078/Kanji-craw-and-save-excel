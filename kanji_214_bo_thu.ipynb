{
 "cells": [
  {
   "cell_type": "code",
   "execution_count": 26,
   "metadata": {},
   "outputs": [],
   "source": [
    "from Driver import Driver\n",
    "from selenium import webdriver\n",
    "from selenium.webdriver.common.by import By\n",
    "from selenium.webdriver.support.wait import WebDriverWait\n",
    "from selenium.webdriver.support import expected_conditions as EC\n",
    "from time import sleep\n",
    "from util import json_write, json_read\n"
   ]
  },
  {
   "cell_type": "code",
   "execution_count": 27,
   "metadata": {},
   "outputs": [],
   "source": [
    "the_driver = Driver()\n",
    "driver = the_driver.init_driver()\n",
    "driver.get('https://hvcgroup.edu.vn/tron-bo-214-bo-thu-kanji-tieng-nhat-396-25.html')"
   ]
  },
  {
   "cell_type": "code",
   "execution_count": null,
   "metadata": {},
   "outputs": [],
   "source": [
    "row_elements = driver.find_elements(By.XPATH, '/html/body/div[2]/div/div/div[1]/div[1]/table/tbody/tr')\n",
    "data_214_bo_thu = []\n",
    "title = ['index', 'kanji_214', 'vn_sound', 'mean']\n",
    "for i in range(2, len(row_elements)  + 1):\n",
    "    row_data = {}\n",
    "    col_elements = driver.find_elements(By.XPATH, f'/html/body/div[2]/div/div/div[1]/div[1]/table/tbody/tr[{i}]/td')\n",
    "    if len(col_elements) == 1:\n",
    "        [col_elements] = col_elements\n",
    "        stroke = str(int(col_elements.text.split('Nét:')[0].strip()))\n",
    "        row_data = {\n",
    "            'stroke': stroke\n",
    "        }\n",
    "    else:\n",
    "        for j in range(1, len(col_elements) + 1):\n",
    "            col_element = driver.find_element(By.XPATH, f'/html/body/div[2]/div/div/div[1]/div[1]/table/tbody/tr[{i}]/td[{j}]/p')\n",
    "            row_data.update({\n",
    "                f\"{title[j-1]}\": col_element.text\n",
    "            })\n",
    "    \n",
    "        row_data = {\n",
    "            'stroke': stroke,\n",
    "            **row_data\n",
    "        }\n",
    "\n",
    "        print(row_data)\n",
    "\n",
    "    data_214_bo_thu.append(row_data)\n",
    "    json_write('Kanji Database\\\\214_bo_thu.json', {\n",
    "        '214_kanji': data_214_bo_thu\n",
    "    })"
   ]
  },
  {
   "cell_type": "code",
   "execution_count": null,
   "metadata": {},
   "outputs": [],
   "source": [
    "driver.quit()"
   ]
  },
  {
   "cell_type": "code",
   "execution_count": null,
   "metadata": {},
   "outputs": [],
   "source": []
  }
 ],
 "metadata": {
  "kernelspec": {
   "display_name": "Python 3.10.5 ('venv': venv)",
   "language": "python",
   "name": "python3"
  },
  "language_info": {
   "codemirror_mode": {
    "name": "ipython",
    "version": 3
   },
   "file_extension": ".py",
   "mimetype": "text/x-python",
   "name": "python",
   "nbconvert_exporter": "python",
   "pygments_lexer": "ipython3",
   "version": "3.10.5"
  },
  "orig_nbformat": 4,
  "vscode": {
   "interpreter": {
    "hash": "95379d73687e29367969ecdae944f993419b8d32e7ccee1787d162f3b828b35d"
   }
  }
 },
 "nbformat": 4,
 "nbformat_minor": 2
}
